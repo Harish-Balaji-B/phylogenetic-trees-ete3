{
 "cells": [
  {
   "cell_type": "markdown",
   "metadata": {},
   "source": [
    "Tree 1"
   ]
  },
  {
   "cell_type": "code",
   "execution_count": 1,
   "metadata": {},
   "outputs": [
    {
     "name": "stdout",
     "output_type": "stream",
     "text": [
      "{'rf': 20.0, 'max_rf': 26.0, 'ref_edges_in_source': 0.23076923076923078, 'source_edges_in_ref': 0.23076923076923078, 'effective_tree_size': 15, 'norm_rf': 0.7692307692307693, 'treeko_dist': 'NA', 'source_subtrees': 1, 'common_edges': {('aaaaaaaaan', 'aaaaaaaaao'), ('aaaaaaaaaa', 'aaaaaaaaab', 'aaaaaaaaac', 'aaaaaaaaad', 'aaaaaaaaae', 'aaaaaaaaaf', 'aaaaaaaaag', 'aaaaaaaaah', 'aaaaaaaaai', 'aaaaaaaaaj', 'aaaaaaaaak', 'aaaaaaaaal', 'aaaaaaaaam', 'aaaaaaaaan', 'aaaaaaaaao'), ('aaaaaaaaac', 'aaaaaaaaad'), ('aaaaaaaaam', 'aaaaaaaaan', 'aaaaaaaaao')}, 'source_edges': {('aaaaaaaaaj', 'aaaaaaaaak'), ('aaaaaaaaaf', 'aaaaaaaaag', 'aaaaaaaaah'), ('aaaaaaaaac', 'aaaaaaaaad', 'aaaaaaaaae', 'aaaaaaaaaf', 'aaaaaaaaag', 'aaaaaaaaah'), ('aaaaaaaaaa', 'aaaaaaaaab', 'aaaaaaaaac', 'aaaaaaaaad', 'aaaaaaaaae', 'aaaaaaaaaf', 'aaaaaaaaag', 'aaaaaaaaah'), ('aaaaaaaaai', 'aaaaaaaaaj', 'aaaaaaaaak', 'aaaaaaaaal', 'aaaaaaaaam', 'aaaaaaaaan', 'aaaaaaaaao'), ('aaaaaaaaac', 'aaaaaaaaad'), ('aaaaaaaaai', 'aaaaaaaaaj', 'aaaaaaaaak'), ('aaaaaaaaan', 'aaaaaaaaao'), ('aaaaaaaaaa', 'aaaaaaaaab', 'aaaaaaaaac', 'aaaaaaaaad', 'aaaaaaaaae', 'aaaaaaaaaf', 'aaaaaaaaag', 'aaaaaaaaah', 'aaaaaaaaai', 'aaaaaaaaaj', 'aaaaaaaaak', 'aaaaaaaaal', 'aaaaaaaaam', 'aaaaaaaaan', 'aaaaaaaaao'), ('aaaaaaaaae', 'aaaaaaaaaf', 'aaaaaaaaag', 'aaaaaaaaah'), ('aaaaaaaaam', 'aaaaaaaaan', 'aaaaaaaaao'), ('aaaaaaaaag', 'aaaaaaaaah'), ('aaaaaaaaal', 'aaaaaaaaam', 'aaaaaaaaan', 'aaaaaaaaao'), ('aaaaaaaaaa', 'aaaaaaaaab')}, 'ref_edges': {('aaaaaaaaaa', 'aaaaaaaaam', 'aaaaaaaaan', 'aaaaaaaaao'), ('aaaaaaaaah', 'aaaaaaaaai', 'aaaaaaaaaj'), ('aaaaaaaaac', 'aaaaaaaaad'), ('aaaaaaaaaa', 'aaaaaaaaab', 'aaaaaaaaac', 'aaaaaaaaad', 'aaaaaaaaae', 'aaaaaaaaaf', 'aaaaaaaaag', 'aaaaaaaaam', 'aaaaaaaaan', 'aaaaaaaaao'), ('aaaaaaaaaf', 'aaaaaaaaag'), ('aaaaaaaaab', 'aaaaaaaaac', 'aaaaaaaaad'), ('aaaaaaaaan', 'aaaaaaaaao'), ('aaaaaaaaaa', 'aaaaaaaaab', 'aaaaaaaaac', 'aaaaaaaaad', 'aaaaaaaaae', 'aaaaaaaaaf', 'aaaaaaaaag', 'aaaaaaaaah', 'aaaaaaaaai', 'aaaaaaaaaj', 'aaaaaaaaak', 'aaaaaaaaal', 'aaaaaaaaam', 'aaaaaaaaan', 'aaaaaaaaao'), ('aaaaaaaaae', 'aaaaaaaaaf', 'aaaaaaaaag'), ('aaaaaaaaam', 'aaaaaaaaan', 'aaaaaaaaao'), ('aaaaaaaaak', 'aaaaaaaaal'), ('aaaaaaaaab', 'aaaaaaaaac', 'aaaaaaaaad', 'aaaaaaaaae', 'aaaaaaaaaf', 'aaaaaaaaag'), ('aaaaaaaaai', 'aaaaaaaaaj'), ('aaaaaaaaah', 'aaaaaaaaai', 'aaaaaaaaaj', 'aaaaaaaaak', 'aaaaaaaaal')}}\n"
     ]
    }
   ],
   "source": [
    "from ete3 import Tree, faces, AttrFace, TreeStyle, NodeStyle\n",
    "def layout(node):\n",
    "    # If node is a leaf, add the nodes name and a its scientific name\n",
    "    if node.is_leaf():\n",
    "        faces.add_face_to_node(AttrFace(\"name\"), node, column=0)\n",
    "#tree 1\n",
    "def get_example_tree():\n",
    "    t1 = Tree()\n",
    "    t1.populate(15)\n",
    "    # Node style handling is no longer limited to layout functions. You\n",
    "    # can now create fixed node styles and use them many times, save them\n",
    "    # or even add them to nodes before drawing (this allows to save and\n",
    "    # reproduce an tree image design)\n",
    "    # Set bold red branch to the root node\n",
    "    style = NodeStyle()\n",
    "    style[\"fgcolor\"] = \"#0f0f0f\" \n",
    "    style[\"size\"] = 0\n",
    "    style[\"vt_line_color\"] = \"#ff0000\" #red\n",
    "    style[\"hz_line_color\"] = \"#ff0000\"\n",
    "    style[\"vt_line_width\"] = 8\n",
    "    style[\"hz_line_width\"] = 8\n",
    "    style[\"vt_line_type\"] = 0 # 0 solid, 1 dashed, 2 dotted\n",
    "    style[\"hz_line_type\"] = 0\n",
    "    t1.set_style(style)\n",
    "    #Set dotted red lines to the first two branches\n",
    "    style1 = NodeStyle()\n",
    "    style1[\"fgcolor\"] = \"#0f0f0f\"\n",
    "    style1[\"size\"] = 0\n",
    "    style1[\"vt_line_color\"] = \"#ff0000\" \n",
    "    style1[\"hz_line_color\"] = \"#ff0000\"\n",
    "    style1[\"vt_line_width\"] = 2\n",
    "    style1[\"hz_line_width\"] = 2\n",
    "    style1[\"vt_line_type\"] = 2 # 0 solid, 1 dashed, 2 dotted\n",
    "    style1[\"hz_line_type\"] = 2\n",
    "    t1.children[0].img_style = style1\n",
    "    t1.children[1].img_style = style1\n",
    "    # Set dashed blue lines in all leaves\n",
    "    style2 = NodeStyle()\n",
    "    style2[\"fgcolor\"] = \"#000000\"\n",
    "    style2[\"shape\"] = \"circle\"\n",
    "    style2[\"vt_line_color\"] = \"#0000aa\"\n",
    "    style2[\"hz_line_color\"] = \"#0000aa\"\n",
    "    style2[\"vt_line_width\"] = 2\n",
    "    style2[\"hz_line_width\"] = 2\n",
    "    style2[\"vt_line_type\"] = 1 # 0 solid, 1 dashed, 2 dotted\n",
    "    style2[\"hz_line_type\"] = 1\n",
    "    for l in t1.iter_leaves():\n",
    "        l.img_style = style2\n",
    "    ts = TreeStyle()\n",
    "    ts.layout_fn = layout\n",
    "    ts.show_leaf_name = False\n",
    "    return t1, ts\n",
    "if __name__ == \"__main__\":\n",
    "    t1, ts = get_example_tree()\n",
    "    t1.show(tree_style=ts)\n",
    "    #t.render(\"node_style.png\", w=400, tree_style=ts)\n",
    "\n",
    "#tree 2\n",
    "def get_example_tree():\n",
    "    t = Tree()\n",
    "    t.populate(15)\n",
    "    style = NodeStyle()\n",
    "    style[\"fgcolor\"] = \"#0f0f0f\"\n",
    "    style[\"size\"] = 0\n",
    "    style[\"vt_line_color\"] = \"#00ff00\"\n",
    "    style[\"hz_line_color\"] = \"#00ff00\"\n",
    "    style[\"vt_line_width\"] = 8\n",
    "    style[\"hz_line_width\"] = 8\n",
    "    style[\"vt_line_type\"] = 0 # 0 solid, 1 dashed, 2 dotted\n",
    "    style[\"hz_line_type\"] = 0\n",
    "    t.set_style(style)\n",
    "    #Set dotted green lines to the first two branches\n",
    "    style1 = NodeStyle()\n",
    "    style1[\"fgcolor\"] = \"#0f0f0f\"\n",
    "    style1[\"size\"] = 0\n",
    "    style1[\"vt_line_color\"] = \"#00ff00\" #green\n",
    "    style1[\"hz_line_color\"] = \"#00ff00\"\n",
    "    style1[\"vt_line_width\"] = 2\n",
    "    style1[\"hz_line_width\"] = 2\n",
    "    style1[\"vt_line_type\"] = 2 # 0 solid, 1 dashed, 2 dotted\n",
    "    style1[\"hz_line_type\"] = 2\n",
    "    t.children[0].img_style = style1\n",
    "    t.children[1].img_style = style1\n",
    "    # Set dashed blue lines in all leaves\n",
    "    style2 = NodeStyle()\n",
    "    style2[\"fgcolor\"] = \"#000000\"\n",
    "    style2[\"shape\"] = \"circle\"\n",
    "    style2[\"vt_line_color\"] = \"#0000aa\"\n",
    "    style2[\"hz_line_color\"] = \"#0000aa\"\n",
    "    style2[\"vt_line_width\"] = 2\n",
    "    style2[\"hz_line_width\"] = 2\n",
    "    style2[\"vt_line_type\"] = 1 # 0 solid, 1 dashed, 2 dotted\n",
    "    style2[\"hz_line_type\"] = 1\n",
    "    for l in t.iter_leaves():\n",
    "        l.img_style = style2\n",
    "    ts = TreeStyle()\n",
    "    ts.layout_fn = layout\n",
    "    ts.show_leaf_name = False\n",
    "    return t, ts\n",
    "if __name__ == \"__main__\":\n",
    "    t, ts = get_example_tree() \n",
    "    t.show(tree_style=ts)\n",
    "    #t.render(\"node_style.png\", w=400, tree_style=ts)    \n",
    "#comparison\n",
    "score = t1.compare(t)\n",
    "print(score)\n"
   ]
  },
  {
   "cell_type": "markdown",
   "metadata": {},
   "source": [
    "Tree 1 RF Code"
   ]
  },
  {
   "cell_type": "code",
   "execution_count": 2,
   "metadata": {},
   "outputs": [
    {
     "name": "stdout",
     "output_type": "stream",
     "text": [
      "RF distance: 18\n"
     ]
    }
   ],
   "source": [
    "from ete3 import Tree\n",
    "# Compare the two trees\n",
    "rf_distance = t1.robinson_foulds(t, unrooted_trees=True)\n",
    "print(\"RF distance:\", rf_distance[0])"
   ]
  },
  {
   "cell_type": "markdown",
   "metadata": {},
   "source": [
    "Tree 2"
   ]
  },
  {
   "cell_type": "code",
   "execution_count": 6,
   "metadata": {},
   "outputs": [
    {
     "name": "stdout",
     "output_type": "stream",
     "text": [
      "{'rf': 24.0, 'max_rf': 26.0, 'ref_edges_in_source': 0.07692307692307693, 'source_edges_in_ref': 0.07692307692307693, 'effective_tree_size': 15, 'norm_rf': 0.9230769230769231, 'treeko_dist': 'NA', 'source_subtrees': 1, 'common_edges': {('aaaaaaaaan', 'aaaaaaaaao'), ('aaaaaaaaaa', 'aaaaaaaaab', 'aaaaaaaaac', 'aaaaaaaaad', 'aaaaaaaaae', 'aaaaaaaaaf', 'aaaaaaaaag', 'aaaaaaaaah', 'aaaaaaaaai', 'aaaaaaaaaj', 'aaaaaaaaak', 'aaaaaaaaal', 'aaaaaaaaam', 'aaaaaaaaan', 'aaaaaaaaao')}, 'source_edges': {('aaaaaaaaaf', 'aaaaaaaaag', 'aaaaaaaaah'), ('aaaaaaaaaa', 'aaaaaaaaab', 'aaaaaaaaac', 'aaaaaaaaad', 'aaaaaaaaak', 'aaaaaaaaal', 'aaaaaaaaam', 'aaaaaaaaan', 'aaaaaaaaao'), ('aaaaaaaaac', 'aaaaaaaaad'), ('aaaaaaaaab', 'aaaaaaaaac', 'aaaaaaaaad'), ('aaaaaaaaae', 'aaaaaaaaaf', 'aaaaaaaaag', 'aaaaaaaaah', 'aaaaaaaaai', 'aaaaaaaaaj'), ('aaaaaaaaaa', 'aaaaaaaaab', 'aaaaaaaaac', 'aaaaaaaaad', 'aaaaaaaaae', 'aaaaaaaaaf', 'aaaaaaaaag', 'aaaaaaaaah', 'aaaaaaaaai', 'aaaaaaaaaj', 'aaaaaaaaak', 'aaaaaaaaal', 'aaaaaaaaam', 'aaaaaaaaan', 'aaaaaaaaao'), ('aaaaaaaaan', 'aaaaaaaaao'), ('aaaaaaaaae', 'aaaaaaaaaf', 'aaaaaaaaag', 'aaaaaaaaah'), ('aaaaaaaaam', 'aaaaaaaaan', 'aaaaaaaaao'), ('aaaaaaaaak', 'aaaaaaaaal', 'aaaaaaaaam', 'aaaaaaaaan', 'aaaaaaaaao'), ('aaaaaaaaag', 'aaaaaaaaah'), ('aaaaaaaaal', 'aaaaaaaaam', 'aaaaaaaaan', 'aaaaaaaaao'), ('aaaaaaaaai', 'aaaaaaaaaj'), ('aaaaaaaaaa', 'aaaaaaaaak', 'aaaaaaaaal', 'aaaaaaaaam', 'aaaaaaaaan', 'aaaaaaaaao')}, 'ref_edges': {('aaaaaaaaaj', 'aaaaaaaaak'), ('aaaaaaaaaj', 'aaaaaaaaak', 'aaaaaaaaal', 'aaaaaaaaam'), ('aaaaaaaaal', 'aaaaaaaaam'), ('aaaaaaaaah', 'aaaaaaaaai'), ('aaaaaaaaaa', 'aaaaaaaaab'), ('aaaaaaaaac', 'aaaaaaaaad', 'aaaaaaaaae', 'aaaaaaaaaf', 'aaaaaaaaag'), ('aaaaaaaaaf', 'aaaaaaaaag'), ('aaaaaaaaah', 'aaaaaaaaai', 'aaaaaaaaaj', 'aaaaaaaaak', 'aaaaaaaaal', 'aaaaaaaaam'), ('aaaaaaaaac', 'aaaaaaaaad', 'aaaaaaaaae', 'aaaaaaaaaf', 'aaaaaaaaag', 'aaaaaaaaah', 'aaaaaaaaai', 'aaaaaaaaaj', 'aaaaaaaaak', 'aaaaaaaaal', 'aaaaaaaaam'), ('aaaaaaaaan', 'aaaaaaaaao'), ('aaaaaaaaaa', 'aaaaaaaaab', 'aaaaaaaaac', 'aaaaaaaaad', 'aaaaaaaaae', 'aaaaaaaaaf', 'aaaaaaaaag', 'aaaaaaaaah', 'aaaaaaaaai', 'aaaaaaaaaj', 'aaaaaaaaak', 'aaaaaaaaal', 'aaaaaaaaam', 'aaaaaaaaan', 'aaaaaaaaao'), ('aaaaaaaaae', 'aaaaaaaaaf', 'aaaaaaaaag'), ('aaaaaaaaaa', 'aaaaaaaaab', 'aaaaaaaaan', 'aaaaaaaaao'), ('aaaaaaaaad', 'aaaaaaaaae', 'aaaaaaaaaf', 'aaaaaaaaag')}}\n"
     ]
    }
   ],
   "source": [
    "import random\n",
    "from ete3 import Tree, TreeStyle, NodeStyle, faces, AttrFace, CircleFace\n",
    "def layout(node):\n",
    "    if node.is_leaf():\n",
    "        # Add node name to laef nodes\n",
    "        N = AttrFace(\"name\", fsize=14, fgcolor=\"black\")\n",
    "        faces.add_face_to_node(N, node, 0)\n",
    "    if \"weight\" in node.features:\n",
    "        # Creates a sphere face whose size is proportional to node's\n",
    "        # feature \"weight\"\n",
    "        C = CircleFace(radius=node.weight, color=\"Red\", style=\"sphere\")\n",
    "        # Let's make the sphere transparent\n",
    "        C.opacity = 0.3\n",
    "        # And place as a float face over the tree\n",
    "        faces.add_face_to_node(C, node, 0, position=\"float\")\n",
    "def get_example_tree():\n",
    "    # Random tree\n",
    "    t2 = Tree()\n",
    "    t2.populate(15, random_branches=True)\n",
    "    # Some random features in all nodes\n",
    "    for n in t2.traverse():\n",
    "        n.add_features(weight=random.randint(0, 50))\n",
    "    # Create an empty TreeStyle\n",
    "    ts = TreeStyle()\n",
    "    # Set our custom layout function\n",
    "    ts.layout_fn = layout\n",
    "    # Draw a tree\n",
    "    ts.mode = \"c\"\n",
    "\n",
    "    # We will add node names manually\n",
    "    ts.show_leaf_name = False\n",
    "    # Show branch data\n",
    "    ts.show_branch_length = True\n",
    "    ts.show_branch_support = True\n",
    "    return t2, ts\n",
    "if __name__ == \"__main__\":\n",
    "    t2, ts = get_example_tree()\n",
    "    #t.render(\"bubble_map.png\", w=600, dpi=300, tree_style=ts)\n",
    "    t2.show(tree_style=ts)\n",
    "def layout(node):\n",
    "    if node.is_leaf():\n",
    "        # Add node name to laef nodes\n",
    "        N = AttrFace(\"name\", fsize=14, fgcolor=\"black\")\n",
    "        faces.add_face_to_node(N, node, 0)\n",
    "    if \"weight\" in node.features:\n",
    "        # Creates a sphere face whose size is proportional to node's\n",
    "        # feature \"weight\"\n",
    "        C = CircleFace(radius=node.weight, color=\"RoyalBlue\", style=\"sphere\")\n",
    "        # Let's make the sphere transparent\n",
    "        C.opacity = 0.3\n",
    "        # And place as a float face over the tree\n",
    "        faces.add_face_to_node(C, node, 0, position=\"float\")\n",
    "def get_example_tree():\n",
    "    # Random tree\n",
    "    t1 = Tree()\n",
    "    t1.populate(15, random_branches=True)\n",
    "    # Some random features in all nodes\n",
    "    for n in t1.traverse():\n",
    "        n.add_features(weight=random.randint(0, 50))\n",
    "    # Create an empty TreeStyle\n",
    "    ts = TreeStyle()\n",
    "    # Set our custom layout function\n",
    "    ts.layout_fn = layout\n",
    "    # Draw a tree\n",
    "    ts.mode = \"c\"\n",
    "    # We will add node names manually\n",
    "    ts.show_leaf_name = False\n",
    "    # Show branch data\n",
    "    ts.show_branch_length = True\n",
    "    ts.show_branch_support = True\n",
    "    return t1, ts\n",
    "if __name__ == \"__main__\":\n",
    "    t1, ts = get_example_tree()\n",
    "    #t.render(\"bubble_map.png\", w=600, dpi=300, tree_style=ts)    \n",
    "    t1.show(tree_style=ts)\n",
    "score = t2.compare(t1)\n",
    "print(score)\n"
   ]
  },
  {
   "cell_type": "code",
   "execution_count": null,
   "metadata": {},
   "outputs": [],
   "source": [
    "Tree 2 RF Code"
   ]
  },
  {
   "cell_type": "code",
   "execution_count": 7,
   "metadata": {},
   "outputs": [
    {
     "name": "stdout",
     "output_type": "stream",
     "text": [
      "RF distance: 22\n"
     ]
    }
   ],
   "source": [
    "from ete3 import Tree\n",
    "# Compare the two trees\n",
    "rf_distance = t2.robinson_foulds(t1, unrooted_trees=True)\n",
    "print(\"RF distance:\", rf_distance[0])"
   ]
  },
  {
   "cell_type": "code",
   "execution_count": null,
   "metadata": {},
   "outputs": [],
   "source": []
  }
 ],
 "metadata": {
  "kernelspec": {
   "display_name": "Python 3",
   "language": "python",
   "name": "python3"
  },
  "language_info": {
   "codemirror_mode": {
    "name": "ipython",
    "version": 3
   },
   "file_extension": ".py",
   "mimetype": "text/x-python",
   "name": "python",
   "nbconvert_exporter": "python",
   "pygments_lexer": "ipython3",
   "version": "3.8.3"
  }
 },
 "nbformat": 4,
 "nbformat_minor": 4
}
